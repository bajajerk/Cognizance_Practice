{
 "cells": [
  {
   "cell_type": "code",
   "execution_count": 9,
   "metadata": {},
   "outputs": [
    {
     "name": "stdout",
     "output_type": "stream",
     "text": [
      "d\n"
     ]
    }
   ],
   "source": [
    "## Negative Indexing\n",
    "a='asd'\n",
    "print (a[-1])"
   ]
  },
  {
   "cell_type": "code",
   "execution_count": 16,
   "metadata": {},
   "outputs": [
    {
     "name": "stdout",
     "output_type": "stream",
     "text": [
      "b\n",
      "bcdefg\n",
      "abc\n",
      "abcdefg\n",
      "g\n"
     ]
    }
   ],
   "source": [
    "# Slicing\n",
    "a='abcdefg'\n",
    "\n",
    "# Starting is included ending isnt included\n",
    "print (a[1:2])\n",
    "\n",
    "# To print from 1 till last\n",
    "print (a[1:])\n",
    "\n",
    "#To print till 2nd index (Giving it 3 as last index isnt considered)\n",
    "print(a[:3])\n",
    "\n",
    "# To print full string\n",
    "print (a[:])\n",
    "\n",
    "print (a[-1:])\n",
    "# As -1 corresponds to last index\n"
   ]
  }
 ],
 "metadata": {
  "kernelspec": {
   "display_name": "Python 3",
   "language": "python",
   "name": "python3"
  },
  "language_info": {
   "codemirror_mode": {
    "name": "ipython",
    "version": 3
   },
   "file_extension": ".py",
   "mimetype": "text/x-python",
   "name": "python",
   "nbconvert_exporter": "python",
   "pygments_lexer": "ipython3",
   "version": "3.6.3"
  }
 },
 "nbformat": 4,
 "nbformat_minor": 2
}
