{
 "cells": [
  {
   "cell_type": "code",
   "execution_count": 3,
   "metadata": {},
   "outputs": [
    {
     "data": {
      "text/plain": [
       "3.1622776601683795"
      ]
     },
     "execution_count": 3,
     "metadata": {},
     "output_type": "execute_result"
    }
   ],
   "source": [
    "# Importing a library \n",
    "# Make it as if you want it again and again in many places\n",
    "import math as m\n",
    "m.sqrt(10)"
   ]
  },
  {
   "cell_type": "code",
   "execution_count": 32,
   "metadata": {},
   "outputs": [
    {
     "name": "stdout",
     "output_type": "stream",
     "text": [
      "[1 2 3]\n",
      "[ 0.  0.  0.  0.  0.  0.  0.  0.  0.  0.]\n",
      "float64\n",
      "\n",
      "[0 0 0 0 0 0 0 0 0 0]\n",
      "int64\n",
      "\n",
      "[[ 0.  0.  0.]\n",
      " [ 0.  0.  0.]]\n",
      "(2, 3)\n",
      "\n",
      "[0 1 2 3 4 5 6 7 8 9]\n"
     ]
    }
   ],
   "source": [
    "# Numpy arrays are much faster than simple python lists\n",
    "\n",
    "# Importing numpy\n",
    "import numpy as np\n",
    "a=[1,2,3]\n",
    "a1=np.array(a)\n",
    "print(a1)\n",
    "\n",
    "# Makes array with all  zeroes uptill len 10 of datatype float\n",
    "a2=np.zeros(10)\n",
    "print(a2)\n",
    "print(a2.dtype)\n",
    "print()\n",
    "\n",
    "# Makes array with all  zeroes uptill len 10 of datatype int\n",
    "# Can be declared type which we want the variable\n",
    "a2=np.zeros(10,int)\n",
    "print(a2)\n",
    "print(a2.dtype)\n",
    "print()\n",
    "\n",
    "\n",
    "# Making two d Arrays\n",
    "twoD=np.zeros((2,3))\n",
    "print (twoD)\n",
    "print(twoD.shape)\n",
    "print()\n",
    "\n",
    "arr=np.arange(10)\n",
    "print(arr)"
   ]
  },
  {
   "cell_type": "code",
   "execution_count": 46,
   "metadata": {},
   "outputs": [
    {
     "name": "stdout",
     "output_type": "stream",
     "text": [
      "[5 7 9]\n",
      "[-3 -3 -3]\n",
      "[ 4 10 18]\n",
      "[1 4 9]\n",
      "2.0\n"
     ]
    }
   ],
   "source": [
    "# Numpy Operations\n",
    "\n",
    "arr1=np.array([1,2,3])\n",
    "arr2=np.array([4,5,6])\n",
    "arr3=arr1+arr2\n",
    "print(arr3)\n",
    "\n",
    "print(arr1-arr2)\n",
    "print(arr1*arr2)\n",
    "print(arr1**2)\n",
    "\n",
    "print(arr1.mean())\n",
    "\n",
    "\n"
   ]
  },
  {
   "cell_type": "code",
   "execution_count": 50,
   "metadata": {},
   "outputs": [
    {
     "name": "stdout",
     "output_type": "stream",
     "text": [
      "[[ 70 100]\n",
      " [150 220]]\n",
      "[1 5]\n"
     ]
    }
   ],
   "source": [
    "# Two D numpy arrays\n",
    "m1=np.array([[1,2],[3,4]])\n",
    "m2=np.array([[10,20],[30,40]])\n",
    "\n",
    "print (m1.dot(m2))\n",
    "print(np.sum([[0, 1], [0, 5]], axis=1))\n"
   ]
  }
 ],
 "metadata": {
  "kernelspec": {
   "display_name": "Python 3",
   "language": "python",
   "name": "python3"
  },
  "language_info": {
   "codemirror_mode": {
    "name": "ipython",
    "version": 3
   },
   "file_extension": ".py",
   "mimetype": "text/x-python",
   "name": "python",
   "nbconvert_exporter": "python",
   "pygments_lexer": "ipython3",
   "version": "3.6.3"
  }
 },
 "nbformat": 4,
 "nbformat_minor": 2
}
