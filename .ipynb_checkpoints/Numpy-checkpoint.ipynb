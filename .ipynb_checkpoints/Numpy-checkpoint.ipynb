{
 "cells": [
  {
   "cell_type": "code",
   "execution_count": 3,
   "metadata": {},
   "outputs": [
    {
     "data": {
      "text/plain": [
       "3.1622776601683795"
      ]
     },
     "execution_count": 3,
     "metadata": {},
     "output_type": "execute_result"
    }
   ],
   "source": [
    "# Importing a library \n",
    "# Make it as if you want it again and again in many places\n",
    "import math as m\n",
    "m.sqrt(10)"
   ]
  },
  {
   "cell_type": "code",
   "execution_count": 21,
   "metadata": {},
   "outputs": [
    {
     "name": "stdout",
     "output_type": "stream",
     "text": [
      "[1 2 3]\n",
      "[ 0.  0.  0.  0.  0.  0.  0.  0.  0.  0.]\n",
      "float64\n",
      "\n",
      "[0 0 0 0 0 0 0 0 0 0]\n",
      "int64\n",
      "[[ 0.  0.  0.]\n",
      " [ 0.  0.  0.]]\n"
     ]
    }
   ],
   "source": [
    "# Numpy arrays are much faster than simple python lists\n",
    "\n",
    "# Importing numpy\n",
    "import numpy as np\n",
    "a=[1,2,3]\n",
    "a1=np.array(a)\n",
    "print(a1)\n",
    "\n",
    "# Makes array with all  zeroes uptill len 10 of datatype float\n",
    "a2=np.zeros(10)\n",
    "print(a2)\n",
    "print(a2.dtype)\n",
    "print()\n",
    "\n",
    "# Makes array with all  zeroes uptill len 10 of datatype int\n",
    "# Can be declared type which we want the variable\n",
    "a2=np.zeros(10,int)\n",
    "print(a2)\n",
    "print(a2.dtype)\n",
    "print()\n",
    "\n",
    "\n",
    "# Making two d Arrays\n",
    "twoD=np.zeros((2,3))\n",
    "print (twoD)\n",
    "\n"
   ]
  }
 ],
 "metadata": {
  "kernelspec": {
   "display_name": "Python 3",
   "language": "python",
   "name": "python3"
  },
  "language_info": {
   "codemirror_mode": {
    "name": "ipython",
    "version": 3
   },
   "file_extension": ".py",
   "mimetype": "text/x-python",
   "name": "python",
   "nbconvert_exporter": "python",
   "pygments_lexer": "ipython3",
   "version": "3.6.3"
  }
 },
 "nbformat": 4,
 "nbformat_minor": 2
}
