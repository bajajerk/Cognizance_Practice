{
 "cells": [
  {
   "cell_type": "code",
   "execution_count": 9,
   "metadata": {},
   "outputs": [
    {
     "name": "stdout",
     "output_type": "stream",
     "text": [
      "[0, 2, 3]\n",
      "<class 'list'>\n"
     ]
    }
   ],
   "source": [
    "# Tuples can be made but it is immutable\n",
    "a=[1,2,3]\n",
    "a[0]=0\n",
    "print (a)\n",
    "print(type(a))"
   ]
  },
  {
   "cell_type": "code",
   "execution_count": 6,
   "metadata": {},
   "outputs": [
    {
     "name": "stdout",
     "output_type": "stream",
     "text": [
      "[0, 1, 2, 3, 4, 5, 6, 7, 8, 9]\n",
      "[0, 1, 2, 3, 4, 5, 6, 7, 8, 9]\n",
      "[0, 1, 4, 9, 16, 25, 36, 49, 64, 81]\n"
     ]
    }
   ],
   "source": [
    "# Ways of making list\n",
    "\n",
    "a=[0 for i in range(10)]\n",
    "print(b)\n",
    "\n",
    "b=[i for i in range(10)]\n",
    "print(b)\n",
    "\n",
    "sq=[i*i for i in range (10)]\n",
    "print(sq)"
   ]
  },
  {
   "cell_type": "code",
   "execution_count": null,
   "metadata": {
    "collapsed": true
   },
   "outputs": [],
   "source": []
  },
  {
   "cell_type": "code",
   "execution_count": 13,
   "metadata": {},
   "outputs": [
    {
     "name": "stdout",
     "output_type": "stream",
     "text": [
      "['a', 1, True]\n",
      "True\n"
     ]
    }
   ],
   "source": [
    "# Lists are hetrogeneous\n",
    "t=['a',1,True]\n",
    "print(t)\n",
    "print(t[2])"
   ]
  },
  {
   "cell_type": "code",
   "execution_count": 15,
   "metadata": {},
   "outputs": [
    {
     "name": "stdout",
     "output_type": "stream",
     "text": [
      "a\n",
      "True\n"
     ]
    }
   ],
   "source": [
    "# Accessing list elements\n",
    "print(t[0])\n",
    "\n",
    "# -1 Gives last element or first element from back\n",
    "print(t[-1])"
   ]
  },
  {
   "cell_type": "code",
   "execution_count": 17,
   "metadata": {},
   "outputs": [
    {
     "name": "stdout",
     "output_type": "stream",
     "text": [
      "a\n",
      "1\n",
      "True\n"
     ]
    }
   ],
   "source": [
    "# Fast itearion of list\n",
    "for i in t:\n",
    "    print(i)"
   ]
  },
  {
   "cell_type": "code",
   "execution_count": 12,
   "metadata": {},
   "outputs": [
    {
     "name": "stdout",
     "output_type": "stream",
     "text": [
      "1 2 3 4 5\n",
      "1 2 3 4 5\n"
     ]
    }
   ],
   "source": [
    "# Taking input\n",
    "inp=input()\n",
    "print (inp)"
   ]
  },
  {
   "cell_type": "code",
   "execution_count": 21,
   "metadata": {},
   "outputs": [
    {
     "name": "stdout",
     "output_type": "stream",
     "text": [
      "['a aa', 'aaa', 'aaaa']\n",
      "  1  23 4 5  2 1 1 111   11\n",
      "1  23 4 5  2 1 1 111   11\n"
     ]
    }
   ],
   "source": [
    "# Spllitting a string\n",
    "str = \"a aa,aaa,aaaa\"\n",
    "\n",
    "# Splitting about the comma and adding it into a list\n",
    "list = str.split(',');\n",
    "print(list)\n",
    "\n",
    "# Removes spaces from start and the end\n",
    "imp=input().strip()\n",
    "print (imp)"
   ]
  },
  {
   "cell_type": "code",
   "execution_count": 26,
   "metadata": {},
   "outputs": [
    {
     "name": "stdout",
     "output_type": "stream",
     "text": [
      "[0, 1, 'ab', True, 2, 'extend']\n"
     ]
    }
   ],
   "source": [
    "# Add elements in the list\n",
    "lst=[1,'ab',True]\n",
    "\n",
    "# Method 1 (At extreme right position)\n",
    "lst.append(2)\n",
    "\n",
    "# Method 2 (Inserting at a specific index)\n",
    "lst.insert(0,0)\n",
    "\n",
    "# Adding a list into it \n",
    "l=['extend']\n",
    "lst.extend(l)\n",
    "\n",
    "print(lst)"
   ]
  },
  {
   "cell_type": "code",
   "execution_count": 47,
   "metadata": {},
   "outputs": [
    {
     "name": "stdout",
     "output_type": "stream",
     "text": [
      "[1, 2, 3, 4]\n",
      "[1, 3, 4]\n",
      "[1, 4]\n"
     ]
    }
   ],
   "source": [
    "# Deleting elements\n",
    "k=[1,2,3,4,5]\n",
    "\n",
    "# Deleting the last element\n",
    "k.pop()\n",
    "# lst.pop()\n",
    "print (k)\n",
    "\n",
    "# Deleting at a particular index\n",
    "k.pop(1)\n",
    "print(k)\n",
    "\n",
    "# Deleting that particular element\n",
    "k.remove(3)\n",
    "print (k)"
   ]
  },
  {
   "cell_type": "code",
   "execution_count": 52,
   "metadata": {},
   "outputs": [
    {
     "name": "stdout",
     "output_type": "stream",
     "text": [
      "[-1, 0, 1, 2, 3, 4]\n",
      "1\n"
     ]
    },
    {
     "data": {
      "text/plain": [
       "True"
      ]
     },
     "execution_count": 52,
     "metadata": {},
     "output_type": "execute_result"
    }
   ],
   "source": [
    "# Function on a list\n",
    "a=[2,3,4,1,-1,0]\n",
    "a.sort()\n",
    "print (a)\n",
    "\n",
    "# Return how many times 1 is there\n",
    "print (a.count(1))\n",
    "\n",
    "# Returns a boolean if -1 is present in a list or not\n",
    "print (-1 in a)\n"
   ]
  },
  {
   "cell_type": "code",
   "execution_count": null,
   "metadata": {
    "collapsed": true
   },
   "outputs": [],
   "source": []
  }
 ],
 "metadata": {
  "kernelspec": {
   "display_name": "Python 3",
   "language": "python",
   "name": "python3"
  },
  "language_info": {
   "codemirror_mode": {
    "name": "ipython",
    "version": 3
   },
   "file_extension": ".py",
   "mimetype": "text/x-python",
   "name": "python",
   "nbconvert_exporter": "python",
   "pygments_lexer": "ipython3",
   "version": "3.6.3"
  }
 },
 "nbformat": 4,
 "nbformat_minor": 2
}
