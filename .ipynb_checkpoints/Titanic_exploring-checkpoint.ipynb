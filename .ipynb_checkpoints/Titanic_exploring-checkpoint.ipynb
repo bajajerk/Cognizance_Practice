{
 "cells": [
  {
   "cell_type": "code",
   "execution_count": 92,
   "metadata": {},
   "outputs": [
    {
     "data": {
      "text/plain": [
       "(891, 12)"
      ]
     },
     "execution_count": 92,
     "metadata": {},
     "output_type": "execute_result"
    }
   ],
   "source": [
    "import pandas as pd\n",
    "tc=pd.read_csv(\"titanic_train.csv\")\n",
    "tc.shape"
   ]
  },
  {
   "cell_type": "code",
   "execution_count": 16,
   "metadata": {},
   "outputs": [
    {
     "data": {
      "text/plain": [
       "0.3838383838383838"
      ]
     },
     "execution_count": 16,
     "metadata": {},
     "output_type": "execute_result"
    }
   ],
   "source": [
    "# Percentage of people survived in titanic\n",
    "tc['Survived'].mean()"
   ]
  },
  {
   "cell_type": "code",
   "execution_count": 20,
   "metadata": {},
   "outputs": [
    {
     "data": {
      "text/plain": [
       "29.69911764705882"
      ]
     },
     "execution_count": 20,
     "metadata": {},
     "output_type": "execute_result"
    }
   ],
   "source": [
    "# Mean Age Of People travelling int the titanic\n",
    "tc['Age'].mean()"
   ]
  },
  {
   "cell_type": "code",
   "execution_count": 23,
   "metadata": {},
   "outputs": [
    {
     "data": {
      "text/plain": [
       "32.2042079685746"
      ]
     },
     "execution_count": 23,
     "metadata": {},
     "output_type": "execute_result"
    }
   ],
   "source": [
    "# Mean fare of tickets purchased\n",
    "tc['Fare'].mean()"
   ]
  },
  {
   "cell_type": "code",
   "execution_count": null,
   "metadata": {
    "scrolled": true
   },
   "outputs": [],
   "source": []
  },
  {
   "cell_type": "code",
   "execution_count": 50,
   "metadata": {},
   "outputs": [],
   "source": [
    "# Getting the list of survived pees\n",
    "tk=tc.copy()\n",
    "survived=tk[tk.Survived==1]"
   ]
  },
  {
   "cell_type": "code",
   "execution_count": 88,
   "metadata": {},
   "outputs": [
    {
     "name": "stdout",
     "output_type": "stream",
     "text": [
      "Survived pople were\n",
      "342\n",
      "Out of\n",
      "891\n"
     ]
    }
   ],
   "source": [
    "print (\"Survived pople were\")\n",
    "print (survived.shape[0])\n",
    "print(\"Out of\")\n",
    "print (tc.shape[0])"
   ]
  },
  {
   "cell_type": "code",
   "execution_count": 68,
   "metadata": {},
   "outputs": [
    {
     "name": "stdout",
     "output_type": "stream",
     "text": [
      "Count of people survived in passenger class 3 were 119\n",
      "\n",
      "Count of people survived in passenger class 2 were 87\n",
      "\n",
      "Count of people survived in passenger class 2 were 87\n"
     ]
    }
   ],
   "source": [
    "# Classifing by Passenger class\n",
    "print (\"Count of people survived in passenger class 3 were\", end=' ')\n",
    "print(survived[survived.Pclass==3].shape[0])\n",
    "print()\n",
    "\n",
    "print (\"Count of people survived in passenger class 2 were\", end=' ')\n",
    "print(survived[survived.Pclass==2].shape[0])\n",
    "print()\n",
    "\n",
    "print (\"Count of people survived in passenger class 2 were\", end=' ')\n",
    "print(survived[survived.Pclass==2].shape[0])"
   ]
  },
  {
   "cell_type": "code",
   "execution_count": 102,
   "metadata": {},
   "outputs": [
    {
     "name": "stdout",
     "output_type": "stream",
     "text": [
      "577\n",
      "314\n"
     ]
    }
   ],
   "source": [
    "# Calcuating percentage of male in the titanic\n",
    "tcgen=tc.copy()\n",
    "\n",
    "# Initialising a new column\n",
    "tcgen[\"Gender\"]=1\n",
    "\n",
    "def conv(sex):\n",
    "    if(sex=='male'):\n",
    "        return 1\n",
    "    else:\n",
    "        return 0\n",
    "    \n",
    "\n",
    "tcgen['Gender']=tcgen.Sex.apply(conv)\n",
    "\n",
    "# As of now all genders with 1 are male and with zero are females\n",
    "print(tcgen[tcgen.Gender==1].shape[0])\n",
    "print(tcgen[tcgen.Gender==0].shape[0])\n",
    "\n"
   ]
  },
  {
   "cell_type": "code",
   "execution_count": null,
   "metadata": {
    "collapsed": true
   },
   "outputs": [],
   "source": []
  }
 ],
 "metadata": {
  "kernelspec": {
   "display_name": "Python 3",
   "language": "python",
   "name": "python3"
  },
  "language_info": {
   "codemirror_mode": {
    "name": "ipython",
    "version": 3
   },
   "file_extension": ".py",
   "mimetype": "text/x-python",
   "name": "python",
   "nbconvert_exporter": "python",
   "pygments_lexer": "ipython3",
   "version": "3.6.3"
  }
 },
 "nbformat": 4,
 "nbformat_minor": 2
}
